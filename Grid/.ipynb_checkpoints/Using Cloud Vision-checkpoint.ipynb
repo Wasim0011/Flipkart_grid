{
 "cells": [
  {
   "cell_type": "markdown",
   "id": "583b1326-9297-4a3e-b430-278dd167adb0",
   "metadata": {},
   "source": [
    "## Extracting Text"
   ]
  },
  {
   "cell_type": "code",
   "execution_count": 1,
   "id": "d7feffd8-3ba9-428f-a868-0a59bb8f1349",
   "metadata": {},
   "outputs": [],
   "source": [
    "import os\n",
    "from google.cloud import vision"
   ]
  },
  {
   "cell_type": "code",
   "execution_count": 2,
   "id": "8b0fb15c-4733-41fd-8aad-43c25f9fdd33",
   "metadata": {},
   "outputs": [],
   "source": [
    "os.environ['GOOGLE_APPLICATION_CREDENTIALS']='vision_key.json'"
   ]
  },
  {
   "cell_type": "code",
   "execution_count": 3,
   "id": "4deced9d-2a68-4432-9e32-092c88b53860",
   "metadata": {},
   "outputs": [],
   "source": [
    "client = vision.ImageAnnotatorClient()"
   ]
  },
  {
   "cell_type": "code",
   "execution_count": 4,
   "id": "74e8ba4c-bb2e-49be-bac2-c5753c804f4d",
   "metadata": {},
   "outputs": [],
   "source": [
    "def detect_text(image_path):\n",
    "    with open(image_path, 'rb') as image_file:\n",
    "        content = image_file.read()\n",
    "\n",
    "    image = vision.Image(content=content)\n",
    "    response = client.document_text_detection(image=image)\n",
    "    texts=response.text_annotations\n",
    "\n",
    "    if response.error.message:\n",
    "        raise Exception(response.error.message)\n",
    "\n",
    "    if texts:\n",
    "        full_text=texts[0].description\n",
    "        return full_text\n",
    "    else:\n",
    "        return \"\""
   ]
  },
  {
   "cell_type": "code",
   "execution_count": 5,
   "id": "a002d3b2-c3ca-4683-aed1-1f10bb821ea3",
   "metadata": {},
   "outputs": [],
   "source": [
    "image_path='front.png'\n",
    "result=\"\"\n",
    "result += detect_text(image_path)+\"\\n\"\n",
    "result+=\"\\n\"\n",
    "image_path='back.png'\n",
    "result+= detect_text(image_path)"
   ]
  },
  {
   "cell_type": "code",
   "execution_count": 6,
   "id": "208d8490-703d-4428-84e6-a34a82fb14c5",
   "metadata": {},
   "outputs": [
    {
     "name": "stdout",
     "output_type": "stream",
     "text": [
      "ΤΑΤΑ\n",
      "sampann\n",
      "Unpolished\n",
      "Green Moong\n",
      "бу\n",
      "Chef Sergeev Kapoor\n",
      "are for illustration purpose\n",
      "SELECT\n",
      "GRAINS\n",
      "500 g\n",
      "SCAN ME\n",
      "\n",
      "TATA\n",
      "TATA\n",
      "sampann\n",
      "TSD are inpolished and do not undan\n",
      "wholesome character. The 5- Prac\n",
      "CONSUMER CARE DETAILS CUSTOMER CARE EXECUTIVE\n",
      "TA CONSUMER PRODUCTS LTD, KIRLOSKAR BUSINESS PARK\n",
      "HERBAL BENGALURU-560024, KARNATAKA\n",
      "SOLL FREE NUMBER: 1800 3451720\n",
      "EMAL care@tataconsumer.com\n",
      "TATA\n",
      "uuedwes\n",
      "8 904043926421\n",
      "by\n",
      "Tata Consumer Products Linted\n",
      "1.Bishop Lerey Road, Kalkata, Lic. W 10014125\n",
      "West Bengal-700 020\n",
      "by For Manufacturing und\n",
      "aders of Batch Mo. and see below\n",
      "(DA) Soham Martine Private Limited, Old Delhi Road,\n",
      "Waka Part: Motber, P. S. Dunkan, District Hooghly\n",
      "West Bengal-712 250 Lic. No. 1001633102002\n",
      "(AP) Ambika Pulsen, 28/2 A, Mar Pratap Nag\n",
      "Nanded Fiat Dict Late Mara-413512\n",
      "Lic Na 1151434900001\n",
      "GP GPA Foods Pvt Ltd 2262-2265 Phase-I\n",
      "Fond Park, DC, Ral District-Sanpur\n",
      "Hary-131 029 Lic. No. 1814520000067\n",
      "(YP) Yash Prates Pvt LM, Plot\n",
      "83-86\n",
      "end KTADG Kapoor industrial Area Phase\n",
      "Habad Road Kalaburagi, Dietrich Kalaburag\n",
      "Karnataka-585 104. Lic 11215315000883\n",
      "(SD) M's Sandeep Dal Industries, Plot No. 854 1394A\n",
      "Sc No 147, Gat Mo 35 MDC Lan Te\n",
      "TATA\n",
      "sampann\n",
      "Distric-Later, Maharashtra-413 517. L. No. 11515049000454\n",
      "(GV) GAR Nutries Pvt. Ltd. Bt. Sr. No. 11 Al Chichghat (Rat\n",
      "Post Shagann and Finginghar, District-Wardha\n",
      "Maharastra 442 301 11515057000127\n",
      "(80) Jar Lagistic Soltens, Sy No. 1001 and 962\n",
      "Hydau Village, Nelamangala 1K, Deich Easgore Faral\n",
      "Karnataka 562 123. Le No: 1020043003552\n",
      "STORE COLAE PRY PLACE, TRANSFER\n",
      "For guidelines to dispace plastic for further\n",
      "NET WEIGHT:\n",
      "500g\n",
      "FET-PE\n"
     ]
    }
   ],
   "source": [
    "print(result)"
   ]
  },
  {
   "cell_type": "markdown",
   "id": "c167cdb2-7b4d-4f33-baa1-73a948585333",
   "metadata": {
    "jp-MarkdownHeadingCollapsed": true
   },
   "source": [
    "## Using annotator"
   ]
  },
  {
   "cell_type": "code",
   "execution_count": 7,
   "id": "659d265e-b092-4bec-9a02-4d5904f19356",
   "metadata": {},
   "outputs": [],
   "source": [
    "# nlp = spacy.blank(\"en\")\n",
    "# db = DocBin()"
   ]
  },
  {
   "cell_type": "code",
   "execution_count": 8,
   "id": "a2f58503-2337-4055-980e-f19da2e5757e",
   "metadata": {},
   "outputs": [],
   "source": [
    "# with open('annotations.json', encoding='utf-8') as f:\n",
    "#     TRAIN_DATA = json.load(f)"
   ]
  },
  {
   "cell_type": "code",
   "execution_count": 9,
   "id": "edf6bad6-cfd8-439d-95b2-90d4f53632cd",
   "metadata": {},
   "outputs": [],
   "source": [
    "# TRAIN_DATA"
   ]
  },
  {
   "cell_type": "markdown",
   "id": "a20c160e-c004-4368-bb89-bb42ad524426",
   "metadata": {
    "jp-MarkdownHeadingCollapsed": true
   },
   "source": [
    "## Generating Training Data"
   ]
  },
  {
   "cell_type": "code",
   "execution_count": 10,
   "id": "37ff4c5c-a331-47ed-a661-1ca44e331994",
   "metadata": {},
   "outputs": [],
   "source": [
    "# for entry in tqdm(TRAIN_DATA['annotations']):\n",
    "#     if entry is None:\n",
    "#         print(\"Skipping NoneType entry\")\n",
    "#         continue\n",
    "#     try:\n",
    "#         text, annot = entry  # Unpack the entry\n",
    "#         doc = nlp.make_doc(text)\n",
    "#         ents = []\n",
    "#         for start, end, label in annot['entities']:\n",
    "#             span = doc.char_span(start, end, label=label, alignment_mode=\"contract\")\n",
    "#             if span is None:\n",
    "#                 print(\"Skipping entity\")\n",
    "#             else:\n",
    "#                 ents.append(span)\n",
    "#         doc.ents = ents\n",
    "#         db.add(doc)\n",
    "#     except ValueError as e:\n",
    "#         print(f\"Skipping malformed entry: {entry}, error: {e}\")\n",
    "        \n",
    "# db.to_disk(\"training_data.spacy\")  # Save the DocBin object"
   ]
  },
  {
   "cell_type": "markdown",
   "id": "daf299a5-7528-4207-998c-d3d717aade22",
   "metadata": {
    "jp-MarkdownHeadingCollapsed": true
   },
   "source": [
    "## Custom NER Model Training"
   ]
  },
  {
   "cell_type": "code",
   "execution_count": 11,
   "id": "ee32334f-bc57-413c-bbba-3ee8861588dc",
   "metadata": {},
   "outputs": [],
   "source": [
    "# ! python -m spacy init config config.cfg --lang en --pipeline ner --optimize efficiency"
   ]
  },
  {
   "cell_type": "code",
   "execution_count": 12,
   "id": "31061721-455b-4f12-a0df-0d2747e3050b",
   "metadata": {},
   "outputs": [],
   "source": [
    "# ! python -m spacy train config.cfg --output ./ --paths.train ./training_data.spacy --paths.dev ./training_data.spacy --verbose"
   ]
  },
  {
   "cell_type": "markdown",
   "id": "3f4318c5-595b-45a3-ae61-98021a5b551e",
   "metadata": {},
   "source": [
    "## Loading and testing Custom NER Model"
   ]
  },
  {
   "cell_type": "code",
   "execution_count": 13,
   "id": "5bd7986a-6411-400d-89d9-8c7f1454a05d",
   "metadata": {},
   "outputs": [],
   "source": [
    "import spacy"
   ]
  },
  {
   "cell_type": "code",
   "execution_count": 14,
   "id": "d3f1fd96-d3e6-449d-9a22-319303608dcd",
   "metadata": {},
   "outputs": [],
   "source": [
    "nlp_ner = spacy.load(\"model-best\")"
   ]
  },
  {
   "cell_type": "code",
   "execution_count": 15,
   "id": "fb0d3c1e-992e-452d-8450-cb991c5725a7",
   "metadata": {},
   "outputs": [],
   "source": [
    "doc = nlp_ner(result)"
   ]
  },
  {
   "cell_type": "code",
   "execution_count": 16,
   "id": "a5df2cbf-8d29-4ed1-907e-de851174c90e",
   "metadata": {},
   "outputs": [],
   "source": [
    "import re\n",
    "#doc = nlp(result)\n",
    "data = [{ent.label_: ent.text} for ent in doc.ents]\n",
    "# spacy.displacy.render(doc, style=\"ent\", jupyter=True) # display in Jupyter"
   ]
  },
  {
   "cell_type": "code",
   "execution_count": 17,
   "id": "b8a42c8d-48ec-4d54-ac29-f26f937a5b87",
   "metadata": {},
   "outputs": [
    {
     "data": {
      "text/plain": [
       "[{'WEIGHT': '500 g'},\n",
       " {'BRAND_NAME': 'Tata Consumer Products Linted\\n1.Bishop Lerey'},\n",
       " {'BRAND_NAME': 'Martine Private Limited'},\n",
       " {'INGREDIENTS': 'GPA Foods Pvt Ltd'},\n",
       " {'WEIGHT': '500g'},\n",
       " {'PRODUCT_NAME': 'FET-PE'}]"
      ]
     },
     "execution_count": 17,
     "metadata": {},
     "output_type": "execute_result"
    }
   ],
   "source": [
    "data"
   ]
  },
  {
   "cell_type": "markdown",
   "id": "12497be9-0638-4d03-afa6-052970f074d1",
   "metadata": {},
   "source": [
    "## will only print the output"
   ]
  },
  {
   "cell_type": "code",
   "execution_count": 18,
   "id": "6b045db3-e8be-4d71-8e9b-765bcb0f5ab3",
   "metadata": {},
   "outputs": [],
   "source": [
    "# from IPython.display import display, HTML\n",
    "# from collections import defaultdict\n",
    "\n",
    "# # HTML color mappings\n",
    "# COLORS_HTML = {\n",
    "#     'BRAND_NAME': 'red',\n",
    "#     'NUTRITIONAL_INFO': 'green',\n",
    "#     'PRODUCT_NAME': 'blue',\n",
    "#     'WEIGHT': 'orange',\n",
    "#     'INGREDIENTS': 'purple'\n",
    "# }\n",
    "\n",
    "# # Initialize a dictionary with default values as sets to avoid duplicates\n",
    "# grouped_data = defaultdict(set)\n",
    "\n",
    "# # Iterate over the extracted entities and group them by their labels\n",
    "# for ent in doc.ents:\n",
    "#     grouped_data[ent.label_].add(ent.text)\n",
    "\n",
    "# # Function to get the longest string in a set\n",
    "# def get_longest_string(strings):\n",
    "#     return max(strings, key=len)\n",
    "\n",
    "# # Process 'BRAND_NAME' and 'PRODUCT_NAME' to keep only the longest string\n",
    "# for label in ['BRAND_NAME', 'PRODUCT_NAME']:\n",
    "#     if label in grouped_data:\n",
    "#         # Keep the longest string and remove the rest\n",
    "#         longest_string = get_longest_string(grouped_data[label])\n",
    "#         grouped_data[label] = {longest_string}\n",
    "\n",
    "# # Convert sets to lists for easy display\n",
    "# grouped_data = {key: list(value) for key, value in grouped_data.items()}\n",
    "\n",
    "# # Function to display entities with colored labels in HTML\n",
    "# def display_grouped_data_html(grouped_data):\n",
    "#     html_output = \"\"\n",
    "#     for label, values in grouped_data.items():\n",
    "#         color = COLORS_HTML.get(label, 'black')  # Default to black if no color defined\n",
    "#         html_output += f\"<b style='color:{color};'>{label}</b>: {values}<br><br>\"\n",
    "#     display(HTML(html_output))\n",
    "\n",
    "# # Display the output in HTML format\n",
    "# display_grouped_data_html(grouped_data)"
   ]
  },
  {
   "cell_type": "markdown",
   "id": "4cde312a-a19d-453c-a098-cfce01df9cd9",
   "metadata": {},
   "source": [
    "## Will only append the output in excel file(data.xlsx)"
   ]
  },
  {
   "cell_type": "code",
   "execution_count": 19,
   "id": "ff715ecf-1f0a-494b-b161-7dff128e6ea8",
   "metadata": {},
   "outputs": [],
   "source": [
    "# import pandas as pd\n",
    "# from collections import defaultdict\n",
    "\n",
    "# # Convert sets to lists for easy display (if not already done)\n",
    "# grouped_data = {key: list(value) for key, value in grouped_data.items()}\n",
    "\n",
    "# # Convert grouped data into a DataFrame\n",
    "# df = pd.DataFrame(dict([(k, pd.Series(v)) for k, v in grouped_data.items()]))\n",
    "\n",
    "# # Define the Excel file path\n",
    "# excel_file = 'data.xlsx'\n",
    "\n",
    "# # Try to read existing data, append the new data, and write back\n",
    "# try:\n",
    "#     # Read the existing data\n",
    "#     existing_df = pd.read_excel(excel_file, sheet_name='Grouped_Data')\n",
    "#     # Concatenate the new data with the existing data\n",
    "#     combined_df = pd.concat([existing_df, df], ignore_index=True)\n",
    "# except FileNotFoundError:\n",
    "#     # If the file doesn't exist, use the new DataFrame directly\n",
    "#     combined_df = df\n",
    "\n",
    "# # Write the combined DataFrame back to the Excel file\n",
    "# with pd.ExcelWriter(excel_file, mode='w') as writer:\n",
    "#     combined_df.to_excel(writer, sheet_name='Grouped_Data', index=False)\n",
    "\n",
    "# print(f\"Data has been appended to {excel_file}\")\n"
   ]
  },
  {
   "cell_type": "markdown",
   "id": "2f079f7d-cc01-452c-a430-cd3969b463c4",
   "metadata": {},
   "source": [
    "## Will both display and append the output"
   ]
  },
  {
   "cell_type": "code",
   "execution_count": 20,
   "id": "ebe495f6-8956-4a1f-9bb9-3f42a67f36b5",
   "metadata": {},
   "outputs": [
    {
     "data": {
      "text/html": [
       "<b style='color:orange;'>WEIGHT</b>: ['500 g', '500g']<br><br><b style='color:red;'>BRAND_NAME</b>: ['Tata Consumer Products Linted\\n1.Bishop Lerey']<br><br><b style='color:purple;'>INGREDIENTS</b>: ['GPA Foods Pvt Ltd']<br><br><b style='color:blue;'>PRODUCT_NAME</b>: ['FET-PE']<br><br>"
      ],
      "text/plain": [
       "<IPython.core.display.HTML object>"
      ]
     },
     "metadata": {},
     "output_type": "display_data"
    },
    {
     "name": "stdout",
     "output_type": "stream",
     "text": [
      "Data has been appended to data.xlsx\n"
     ]
    }
   ],
   "source": [
    "import pandas as pd\n",
    "from IPython.display import display, HTML\n",
    "from collections import defaultdict\n",
    "\n",
    "# HTML color mappings\n",
    "COLORS_HTML = {\n",
    "    'BRAND_NAME': 'red',\n",
    "    'NUTRITIONAL_INFO': 'green',\n",
    "    'PRODUCT_NAME': 'blue',\n",
    "    'WEIGHT': 'orange',\n",
    "    'INGREDIENTS': 'purple'\n",
    "}\n",
    "\n",
    "# Initialize a dictionary with default values as sets to avoid duplicates\n",
    "grouped_data = defaultdict(set)\n",
    "\n",
    "# Iterate over the extracted entities and group them by their labels\n",
    "for ent in doc.ents:\n",
    "    grouped_data[ent.label_].add(ent.text)\n",
    "\n",
    "# Function to get the longest string in a set\n",
    "def get_longest_string(strings):\n",
    "    return max(strings, key=len)\n",
    "\n",
    "# Process 'BRAND_NAME' and 'PRODUCT_NAME' to keep only the longest string\n",
    "for label in ['BRAND_NAME', 'PRODUCT_NAME']:\n",
    "    if label in grouped_data:\n",
    "        # Keep the longest string and remove the rest\n",
    "        longest_string = get_longest_string(grouped_data[label])\n",
    "        grouped_data[label] = {longest_string}\n",
    "\n",
    "# Convert sets to lists for easy display\n",
    "grouped_data = {key: list(value) for key, value in grouped_data.items()}\n",
    "\n",
    "# Function to display entities with colored labels in HTML\n",
    "def display_grouped_data_html(grouped_data):\n",
    "    html_output = \"\"\n",
    "    for label, values in grouped_data.items():\n",
    "        color = COLORS_HTML.get(label, 'black')  # Default to black if no color defined\n",
    "        html_output += f\"<b style='color:{color};'>{label}</b>: {values}<br><br>\"\n",
    "    display(HTML(html_output))\n",
    "\n",
    "# Display the output in HTML format\n",
    "display_grouped_data_html(grouped_data)\n",
    "\n",
    "# Convert grouped data into a DataFrame\n",
    "df = pd.DataFrame(dict([(k, pd.Series(v)) for k, v in grouped_data.items()]))\n",
    "\n",
    "# Define the Excel file path\n",
    "excel_file = 'data.xlsx'\n",
    "\n",
    "# Try to read existing data, append the new data, and write back\n",
    "try:\n",
    "    # Read the existing data\n",
    "    existing_df = pd.read_excel(excel_file, sheet_name='Grouped_Data')\n",
    "    # Concatenate the new data with the existing data\n",
    "    combined_df = pd.concat([existing_df, df], ignore_index=True)\n",
    "except FileNotFoundError:\n",
    "    # If the file doesn't exist, use the new DataFrame directly\n",
    "    combined_df = df\n",
    "\n",
    "# Write the combined DataFrame back to the Excel file\n",
    "with pd.ExcelWriter(excel_file, mode='w') as writer:\n",
    "    combined_df.to_excel(writer, sheet_name='Grouped_Data', index=False)\n",
    "\n",
    "print(f\"Data has been appended to {excel_file}\")\n"
   ]
  },
  {
   "cell_type": "code",
   "execution_count": null,
   "id": "2e867830-5bc8-4f14-9cc5-e419f00fc008",
   "metadata": {},
   "outputs": [],
   "source": []
  }
 ],
 "metadata": {
  "kernelspec": {
   "display_name": "Python 3 (ipykernel)",
   "language": "python",
   "name": "python3"
  },
  "language_info": {
   "codemirror_mode": {
    "name": "ipython",
    "version": 3
   },
   "file_extension": ".py",
   "mimetype": "text/x-python",
   "name": "python",
   "nbconvert_exporter": "python",
   "pygments_lexer": "ipython3",
   "version": "3.12.4"
  }
 },
 "nbformat": 4,
 "nbformat_minor": 5
}
