{
 "cells": [
  {
   "cell_type": "markdown",
   "id": "d3898218-0fec-43d6-8bfa-01d14bb132e1",
   "metadata": {},
   "source": [
    "## importing libraries"
   ]
  },
  {
   "cell_type": "code",
   "execution_count": 1,
   "id": "6969ece9-6125-4b9a-bd4e-d89adb9bc670",
   "metadata": {},
   "outputs": [],
   "source": [
    "import os\n",
    "from google.cloud import vision\n",
    "import spacy\n",
    "from IPython.display import display, HTML\n",
    "from collections import defaultdict\n",
    "import pandas as pd"
   ]
  },
  {
   "cell_type": "markdown",
   "id": "37be7765-b97a-455a-afed-c3d13903ab9d",
   "metadata": {},
   "source": [
    "## Extracting Text"
   ]
  },
  {
   "cell_type": "code",
   "execution_count": 2,
   "id": "ce2d5d6a-e0c3-4501-bb14-c34b3db992dd",
   "metadata": {},
   "outputs": [],
   "source": [
    "os.environ['GOOGLE_APPLICATION_CREDENTIALS']='vision_key.json' #load the vision_key.json file"
   ]
  },
  {
   "cell_type": "code",
   "execution_count": 3,
   "id": "17246064-21b6-4daf-ab8b-046bf4157c7c",
   "metadata": {},
   "outputs": [],
   "source": [
    "client = vision.ImageAnnotatorClient()"
   ]
  },
  {
   "cell_type": "code",
   "execution_count": 4,
   "id": "ea8c5f19-8cf4-4965-bef4-3f30ffd9f966",
   "metadata": {},
   "outputs": [],
   "source": [
    "def detect_text(image_path):\n",
    "    with open(image_path, 'rb') as image_file:\n",
    "        content = image_file.read()\n",
    "\n",
    "    image = vision.Image(content=content)\n",
    "    response = client.document_text_detection(image=image)\n",
    "    texts=response.text_annotations\n",
    "\n",
    "    if response.error.message:\n",
    "        raise Exception(response.error.message)\n",
    "\n",
    "    if texts:\n",
    "        full_text=texts[0].description\n",
    "        return full_text\n",
    "    else:\n",
    "        return \"\""
   ]
  },
  {
   "cell_type": "code",
   "execution_count": 5,
   "id": "f612486a-0f9f-4d92-94dd-be1c26192b2d",
   "metadata": {},
   "outputs": [],
   "source": [
    "image_path='bingo_f.jpg'\n",
    "result=\"\"\n",
    "result += detect_text(image_path)+\"\\n\"\n",
    "result+=\"\\n\"\n",
    "image_path='bingo_b.jpg'\n",
    "result+= detect_text(image_path)"
   ]
  },
  {
   "cell_type": "code",
   "execution_count": 6,
   "id": "51c275d4-ec63-46d2-a6a1-4581446d2c38",
   "metadata": {},
   "outputs": [],
   "source": [
    "# print(result)"
   ]
  },
  {
   "cell_type": "markdown",
   "id": "98bcb7d3-aa5e-4623-a802-abb7de0a3d54",
   "metadata": {},
   "source": [
    "## Loading Custom Trained NER Model"
   ]
  },
  {
   "cell_type": "code",
   "execution_count": 7,
   "id": "2d471fc9-cbdf-4ddd-9f20-8d0831e3eb3f",
   "metadata": {},
   "outputs": [],
   "source": [
    "nlp_ner = spacy.load(\"model-best\")"
   ]
  },
  {
   "cell_type": "code",
   "execution_count": 8,
   "id": "eb354cea-111e-43e7-b0cb-8e6324453221",
   "metadata": {},
   "outputs": [],
   "source": [
    "doc = nlp_ner(result)"
   ]
  },
  {
   "cell_type": "code",
   "execution_count": 9,
   "id": "0cd49df5-5cdc-4e57-a8a4-8ecd487d9435",
   "metadata": {},
   "outputs": [],
   "source": [
    "import re\n",
    "#doc = nlp(result)\n",
    "data = [{ent.label_: ent.text} for ent in doc.ents]\n",
    "# spacy.displacy.render(doc, style=\"ent\", jupyter=True) # display in Jupyter"
   ]
  },
  {
   "cell_type": "code",
   "execution_count": 10,
   "id": "ba022cfc-9261-4923-8537-320709fcea28",
   "metadata": {},
   "outputs": [
    {
     "data": {
      "text/plain": [
       "[{'BRAND_NAME': 'BINGO!\\nMAD\\nANGLES\\nMmmmm\\nMasala\\nNAMKEEN\\n5G+\\n\\n12:19\\nM\\nVOD\\n50+\\nR\\nLTE\\nPERFECT\\nTRIANGULAR\\nSHAPE\\nLIP-SMACKING\\nTASTE\\nSCAN TO\\nEXPERIENCE\\nTHE MADNESS OF\\nMAD ANGLES'},\n",
       " {'PRICE': '20.00 incl. of all taxes\\nFOR FEEDBACK/COMPLAINT CONTACT:\\nITC CARES AT P.O. BOX NO. 592,\\nBENGALURU-560005.\\nitccares@itc.in\\n1800 425 444 444'},\n",
       " {'LIC_NUMBER': '10012012000154'},\n",
       " {'LIC_NUMBER': '10018042004042'},\n",
       " {'LIC_NUMBER': '10017031002186'},\n",
       " {'HELPLINE_NUMBER': 'SPICES AND CONDIMENTS'},\n",
       " {'INGREDIENTS': 'MILK SOLIDS'},\n",
       " {'NUTRITIONAL_INFO': 'Sodium (mg)'},\n",
       " {'LIC_NUMBER': '10012031000312'},\n",
       " {'WEIGHT': '66g'}]"
      ]
     },
     "execution_count": 10,
     "metadata": {},
     "output_type": "execute_result"
    }
   ],
   "source": [
    "data"
   ]
  },
  {
   "cell_type": "markdown",
   "id": "6f42f598-c73e-433e-b073-7d9e6b429612",
   "metadata": {
    "jp-MarkdownHeadingCollapsed": true
   },
   "source": [
    "## Will only print the output"
   ]
  },
  {
   "cell_type": "code",
   "execution_count": 11,
   "id": "d718c60d-a732-4204-bb68-fbe10b86ba14",
   "metadata": {},
   "outputs": [],
   "source": [
    "# # HTML color mappings\n",
    "# COLORS_HTML = {\n",
    "#     'BRAND_NAME': 'red',\n",
    "#     'NUTRITIONAL_INFO': 'green',\n",
    "#     'PRODUCT_NAME': 'blue',\n",
    "#     'WEIGHT': 'orange',\n",
    "#     'INGREDIENTS': 'purple',\n",
    "#     'FOOD_TYPE': 'gold',\n",
    "#     'PRICE': 'silver',\n",
    "#     'EXPIRY_DATE': 'brown',\n",
    "#     'MANUFACTURING_DATE': 'teal',\n",
    "#     'LIC_NUMBER': 'orchid',\n",
    "#     'HELPLINE_NUMBER': 'pink',\n",
    "#     'OTHER_INFO': 'chocolate',\n",
    "# }\n",
    "\n",
    "# # Initialize a dictionary with default values as sets to avoid duplicates\n",
    "# grouped_data = defaultdict(set)\n",
    "\n",
    "# # Iterate over the extracted entities and group them by their labels\n",
    "# for ent in doc.ents:\n",
    "#     grouped_data[ent.label_].add(ent.text)\n",
    "\n",
    "# # Function to get the longest string in a set\n",
    "# def get_longest_string(strings):\n",
    "#     return max(strings, key=len)\n",
    "\n",
    "# # Process 'BRAND_NAME' and 'PRODUCT_NAME' to keep only the longest string\n",
    "# for label in ['BRAND_NAME', 'PRODUCT_NAME', 'LIC_NUMBER', 'HELPLINE_NUMBER']:\n",
    "#     if label in grouped_data:\n",
    "#         # Keep the longest string and remove the rest\n",
    "#         longest_string = get_longest_string(grouped_data[label])\n",
    "#         grouped_data[label] = {longest_string}\n",
    "\n",
    "# # Convert sets to lists for easy display\n",
    "# grouped_data = {key: list(value) for key, value in grouped_data.items()}\n",
    "\n",
    "# # Function to display entities with colored labels in HTML\n",
    "# def display_grouped_data_html(grouped_data):\n",
    "#     html_output = \"\"\n",
    "#     for label, values in grouped_data.items():\n",
    "#         color = COLORS_HTML.get(label, 'black')  # Default to black if no color defined\n",
    "#         html_output += f\"<b style='color:{color};'>{label}</b>: {values}<br><br>\"\n",
    "#     display(HTML(html_output))\n",
    "\n",
    "# # Display the output in HTML format\n",
    "# display_grouped_data_html(grouped_data)"
   ]
  },
  {
   "cell_type": "markdown",
   "id": "9f7f0b81-a9d4-4b1c-aa69-d09125a4f81e",
   "metadata": {
    "jp-MarkdownHeadingCollapsed": true
   },
   "source": [
    "## Will only append the output in excel file(data.xlsx)"
   ]
  },
  {
   "cell_type": "code",
   "execution_count": 12,
   "id": "97ec552d-2a46-4f96-a08b-1ca206b71421",
   "metadata": {},
   "outputs": [],
   "source": [
    "# # Convert sets to lists for easy display (if not already done)\n",
    "# grouped_data = {key: list(value) for key, value in grouped_data.items()}\n",
    "\n",
    "# # Convert grouped data into a DataFrame\n",
    "# df = pd.DataFrame(dict([(k, pd.Series(v)) for k, v in grouped_data.items()]))\n",
    "\n",
    "# # Define the Excel file path\n",
    "# excel_file = 'data.xlsx'\n",
    "\n",
    "# # Try to read existing data, append the new data, and write back\n",
    "# try:\n",
    "#     # Read the existing data\n",
    "#     existing_df = pd.read_excel(excel_file, sheet_name='Grouped_Data')\n",
    "#     # Concatenate the new data with the existing data\n",
    "#     combined_df = pd.concat([existing_df, df], ignore_index=True)\n",
    "# except FileNotFoundError:\n",
    "#     # If the file doesn't exist, use the new DataFrame directly\n",
    "#     combined_df = df\n",
    "\n",
    "# # Write the combined DataFrame back to the Excel file\n",
    "# with pd.ExcelWriter(excel_file, mode='w') as writer:\n",
    "#     combined_df.to_excel(writer, sheet_name='Grouped_Data', index=False)\n",
    "\n",
    "# print(f\"Data has been appended to {excel_file}\")"
   ]
  },
  {
   "cell_type": "markdown",
   "id": "f46777d5-fcf0-4380-ac2b-43dbf8e3e795",
   "metadata": {},
   "source": [
    "## Will both display and append the output"
   ]
  },
  {
   "cell_type": "code",
   "execution_count": 13,
   "id": "bae52493-55e0-4154-940c-89e4a2bc1424",
   "metadata": {},
   "outputs": [
    {
     "data": {
      "text/html": [
       "<b style='color:red;'>BRAND_NAME</b>: ['BINGO!\\nMAD\\nANGLES\\nMmmmm\\nMasala\\nNAMKEEN\\n5G+\\n\\n12:19\\nM\\nVOD\\n50+\\nR\\nLTE\\nPERFECT\\nTRIANGULAR\\nSHAPE\\nLIP-SMACKING\\nTASTE\\nSCAN TO\\nEXPERIENCE\\nTHE MADNESS OF\\nMAD ANGLES']<br><br><b style='color:silver;'>PRICE</b>: ['20.00 incl. of all taxes\\nFOR FEEDBACK/COMPLAINT CONTACT:\\nITC CARES AT P.O. BOX NO. 592,\\nBENGALURU-560005.\\nitccares@itc.in\\n1800 425 444 444']<br><br><b style='color:orchid;'>LIC_NUMBER</b>: ['10018042004042']<br><br><b style='color:pink;'>HELPLINE_NUMBER</b>: ['SPICES AND CONDIMENTS']<br><br><b style='color:purple;'>INGREDIENTS</b>: ['MILK SOLIDS']<br><br><b style='color:green;'>NUTRITIONAL_INFO</b>: ['Sodium (mg)']<br><br><b style='color:orange;'>WEIGHT</b>: ['66g']<br><br>"
      ],
      "text/plain": [
       "<IPython.core.display.HTML object>"
      ]
     },
     "metadata": {},
     "output_type": "display_data"
    },
    {
     "name": "stdout",
     "output_type": "stream",
     "text": [
      "Data has been appended to data.xlsx\n"
     ]
    }
   ],
   "source": [
    "# HTML color mappings\n",
    "COLORS_HTML = {\n",
    "    'BRAND_NAME': 'red',\n",
    "    'NUTRITIONAL_INFO': 'green',\n",
    "    'PRODUCT_NAME': 'blue',\n",
    "    'WEIGHT': 'orange',\n",
    "    'INGREDIENTS': 'purple',\n",
    "    'FOOD_TYPE': 'gold',\n",
    "    'PRICE': 'silver',\n",
    "    'EXPIRY_DATE': 'brown',\n",
    "    'MANUFACTURING_DATE': 'teal',\n",
    "    'LIC_NUMBER': 'orchid',\n",
    "    'HELPLINE_NUMBER': 'pink',\n",
    "    'OTHER_INFO': 'chocolate',\n",
    "}\n",
    "\n",
    "# Initialize a dictionary with default values as sets to avoid duplicates\n",
    "grouped_data = defaultdict(set)\n",
    "\n",
    "# Iterate over the extracted entities and group them by their labels\n",
    "for ent in doc.ents:\n",
    "    grouped_data[ent.label_].add(ent.text)\n",
    "\n",
    "# Function to get the longest string in a set\n",
    "def get_longest_string(strings):\n",
    "    return max(strings, key=len)\n",
    "\n",
    "# Process 'BRAND_NAME' and 'PRODUCT_NAME' to keep only the longest string\n",
    "for label in ['BRAND_NAME', 'PRODUCT_NAME', 'LIC_NUMBER', 'HELPLINE_NUMBER']:\n",
    "    if label in grouped_data:\n",
    "        # Keep the longest string and remove the rest\n",
    "        longest_string = get_longest_string(grouped_data[label])\n",
    "        grouped_data[label] = {longest_string}\n",
    "\n",
    "# Convert sets to lists for easy display\n",
    "grouped_data = {key: list(value) for key, value in grouped_data.items()}\n",
    "\n",
    "# Function to display entities with colored labels in HTML\n",
    "def display_grouped_data_html(grouped_data):\n",
    "    html_output = \"\"\n",
    "    for label, values in grouped_data.items():\n",
    "        color = COLORS_HTML.get(label, 'black')  # Default to black if no color defined\n",
    "        html_output += f\"<b style='color:{color};'>{label}</b>: {values}<br><br>\"\n",
    "    display(HTML(html_output))\n",
    "\n",
    "# Display the output in HTML format\n",
    "display_grouped_data_html(grouped_data)\n",
    "\n",
    "# Convert grouped data into a DataFrame\n",
    "df = pd.DataFrame(dict([(k, pd.Series(v)) for k, v in grouped_data.items()]))\n",
    "\n",
    "# Define the Excel file path\n",
    "excel_file = 'data.xlsx'\n",
    "\n",
    "# Try to read existing data, append the new data, and write back\n",
    "try:\n",
    "    # Read the existing data\n",
    "    existing_df = pd.read_excel(excel_file, sheet_name='Grouped_Data')\n",
    "    # Concatenate the new data with the existing data\n",
    "    combined_df = pd.concat([existing_df, df], ignore_index=True)\n",
    "except FileNotFoundError:\n",
    "    # If the file doesn't exist, use the new DataFrame directly\n",
    "    combined_df = df\n",
    "\n",
    "# Write the combined DataFrame back to the Excel file\n",
    "with pd.ExcelWriter(excel_file, mode='w') as writer:\n",
    "    combined_df.to_excel(writer, sheet_name='Grouped_Data', index=False)\n",
    "\n",
    "print(f\"Data has been appended to {excel_file}\")"
   ]
  }
 ],
 "metadata": {
  "kernelspec": {
   "display_name": "Python 3 (ipykernel)",
   "language": "python",
   "name": "python3"
  },
  "language_info": {
   "codemirror_mode": {
    "name": "ipython",
    "version": 3
   },
   "file_extension": ".py",
   "mimetype": "text/x-python",
   "name": "python",
   "nbconvert_exporter": "python",
   "pygments_lexer": "ipython3",
   "version": "3.12.4"
  }
 },
 "nbformat": 4,
 "nbformat_minor": 5
}
